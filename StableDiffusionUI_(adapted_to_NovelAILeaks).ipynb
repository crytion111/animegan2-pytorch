{
  "nbformat": 4,
  "nbformat_minor": 0,
  "metadata": {
    "colab": {
      "provenance": [],
      "collapsed_sections": [],
      "include_colab_link": true
    },
    "kernelspec": {
      "name": "python3",
      "display_name": "Python 3"
    },
    "language_info": {
      "name": "python"
    },
    "accelerator": "GPU",
    "gpuClass": "standard"
  },
  "cells": [
    {
      "cell_type": "markdown",
      "metadata": {
        "id": "view-in-github",
        "colab_type": "text"
      },
      "source": [
        "<a href=\"https://colab.research.google.com/github/crytion111/animegan2-pytorch/blob/main/StableDiffusionUI_(adapted_to_NovelAILeaks).ipynb\" target=\"_parent\"><img src=\"https://colab.research.google.com/assets/colab-badge.svg\" alt=\"Open In Colab\"/></a>"
      ]
    },
    {
      "cell_type": "markdown",
      "source": [
        "Credit: https://t.me/StableDiffusion_CN https://t.me/exlolicon\n",
        "\n",
        "FAQ: https://t.me/StableDiffusion_CN/13436"
      ],
      "metadata": {
        "id": "4uISfvm60M2N"
      }
    },
    {
      "cell_type": "markdown",
      "source": [
        "Check GPU"
      ],
      "metadata": {
        "id": "VBDPqhYnyBL1"
      }
    },
    {
      "cell_type": "code",
      "source": [
        "!nvidia-smi"
      ],
      "metadata": {
        "id": "woQCdVO8x-Kt",
        "outputId": "99c7c373-8e2c-4f46-b653-99fb589f8226",
        "colab": {
          "base_uri": "https://localhost:8080/"
        }
      },
      "execution_count": 2,
      "outputs": [
        {
          "output_type": "stream",
          "name": "stdout",
          "text": [
            "Thu Oct 13 01:27:08 2022       \n",
            "+-----------------------------------------------------------------------------+\n",
            "| NVIDIA-SMI 460.32.03    Driver Version: 460.32.03    CUDA Version: 11.2     |\n",
            "|-------------------------------+----------------------+----------------------+\n",
            "| GPU  Name        Persistence-M| Bus-Id        Disp.A | Volatile Uncorr. ECC |\n",
            "| Fan  Temp  Perf  Pwr:Usage/Cap|         Memory-Usage | GPU-Util  Compute M. |\n",
            "|                               |                      |               MIG M. |\n",
            "|===============================+======================+======================|\n",
            "|   0  Tesla T4            Off  | 00000000:00:04.0 Off |                    0 |\n",
            "| N/A   54C    P8    12W /  70W |      0MiB / 15109MiB |      0%      Default |\n",
            "|                               |                      |                  N/A |\n",
            "+-------------------------------+----------------------+----------------------+\n",
            "                                                                               \n",
            "+-----------------------------------------------------------------------------+\n",
            "| Processes:                                                                  |\n",
            "|  GPU   GI   CI        PID   Type   Process name                  GPU Memory |\n",
            "|        ID   ID                                                   Usage      |\n",
            "|=============================================================================|\n",
            "|  No running processes found                                                 |\n",
            "+-----------------------------------------------------------------------------+\n"
          ]
        }
      ]
    },
    {
      "cell_type": "markdown",
      "source": [
        "Clone webui repository"
      ],
      "metadata": {
        "id": "OHCtG9MT0jLq"
      }
    },
    {
      "cell_type": "code",
      "source": [
        "%cd /content\n",
        "!git clone https://github.com/AUTOMATIC1111/stable-diffusion-webui\n",
        "\n",
        "%cd stable-diffusion-webui\n",
        "!git pull"
      ],
      "metadata": {
        "id": "sBbcB4vwj_jm"
      },
      "execution_count": null,
      "outputs": []
    },
    {
      "cell_type": "markdown",
      "source": [
        "Download the model from NovelAILeaks."
      ],
      "metadata": {
        "id": "F0EINk5M0s-w"
      }
    },
    {
      "cell_type": "code",
      "source": [
        "!mkdir -p /content/stable-diffusion-webui/models/Stable-diffusion /content/stable-diffusion-webui/models/hypernetworks\n",
        "%cd /content/stable-diffusion-webui/models/Stable-diffusion/\n",
        "!apt install -y -qq aria2\n",
        "\n",
        "# 7G animefull-latest + 4G animefull-final-pruned\n",
        "!aria2c --summary-interval=10 -x 3 --allow-overwrite=true -Z \\\n",
        "  https://pub-2fdef7a2969f43289c42ac5ae3412fd4.r2.dev/animefull-latest.ckpt \\\n",
        "  https://pub-2fdef7a2969f43289c42ac5ae3412fd4.r2.dev/animefull-final-pruned.ckpt \\\n",
        "  https://pub-2fdef7a2969f43289c42ac5ae3412fd4.r2.dev/animesfw-final-pruned.ckpt\n",
        "\n",
        "# Config \n",
        "!curl -Lo /content/stable-diffusion-webui/config.yaml https://cloudflare-ipfs.com/ipfs/bafybeiav3j7npiuewbel3mi32l3sidgkw54kuleosbhxmdvddbnvtfi7yu/config.yaml\n",
        "\n",
        "# Install VAE Weights (optional)\n",
        "!curl -Lo /content/animevae.pt https://cloudflare-ipfs.com/ipfs/bafybeiccldswdd3wvg57jhclcq53lvsc6gizasiblwayvhlv6eq4wow7wu/animevae.pt\n",
        " \n",
        "# Install hypernetwork （optional)\n",
        "!curl -L https://cloudflare-ipfs.com/ipfs/bafybeiduanx2b3mcvxlwr66igcwnpfmk3nc3qgxlpwh6oq6m6pxii3f77e/_modules.tar | tar x -C /content/stable-diffusion-webui/models/hypernetworks\n",
        "\n",
        "# Install embeddings (optional)\n",
        "# !curl -L https://cloudflare-ipfs.com/ipfs/bafybeie3hdjchxs5tz4n75bos53nhcklslguxchdurc2ynrzcfv2kwyklu/embeddings.tar | tar x -C /content/stable-diffusion-webui/embeddings"
      ],
      "metadata": {
        "id": "ZzRNMT42Gw_p"
      },
      "execution_count": null,
      "outputs": []
    },
    {
      "cell_type": "markdown",
      "source": [
        "Launch web ui. You will get a link to nnn.gradio.app, follow it.\n",
        "\n",
        "Commandline arguments are:\n",
        "  - `--share` - create online gradio.app link\n",
        "  - `--gradio-debug` - print outputs to console\n",
        "  - `--gradio-auth me:qwerty` - add authentication to gradio: username me, password qwerty"
      ],
      "metadata": {
        "id": "xt8lbdmC04ox"
      }
    },
    {
      "cell_type": "code",
      "source": [
        "%cd /content/stable-diffusion-webui\n",
        "\n",
        "# hacks to load model in colab\n",
        "!sed -i 's/map_location=\"cpu\"/map_location=\"cuda\"/g' /content/stable-diffusion-webui/modules/sd_models.py\n",
        "\n",
        "# Use novelai stable-diffusion-private (maybe slow, optional)\n",
        "# !mkdir -p repositories/stable-diffusion\n",
        "# !curl -L https://cloudflare-ipfs.com/ipfs/bafybeiauciguui6skzcwg23mjprjbuqhfzudms2gfi4rna55bygc3s6yxa/stable-diffusion-private.tar | tar x -C repositories/stable-diffusion\n",
        "# !git config --global --add safe.directory /content/stable-diffusion-webui/repositories/stable-diffusion\n",
        "# !pip3 install -U --pre triton icecream xformers\n",
        "# !sed -i 's/transformer\\.text_model/transformer/g' modules/sd_hijack.py\n",
        "# !sed -i 's/self.model.device/\"cuda\"/g' /content/stable-diffusion-webui/repositories/stable-diffusion/ldm/models/diffusion/*.py\n",
        "# !COMMANDLINE_ARGS=\"--share --gradio-debug --config config.yaml --xformers --vae-path /content/animevae.pt\" \\\n",
        "#  REQS_FILE=\"requirements.txt\" STABLE_DIFFUSION_COMMIT_HASH=\"5d95f1742ab1831d99df91c1a469b2b56a61eebf\" python launch.py\n",
        "\n",
        "# ...Or use normal stable-diffusion\n",
        "!COMMANDLINE_ARGS=\"--share --gradio-debug --config config.yaml --vae-path /content/animevae.pt\" REQS_FILE=\"requirements.txt\" python launch.py"
      ],
      "metadata": {
        "id": "R-xAdMA5wxXd",
        "colab": {
          "base_uri": "https://localhost:8080/"
        },
        "outputId": "4c03073f-fe2a-4769-bb08-bef4a87f23c8"
      },
      "execution_count": null,
      "outputs": [
        {
          "output_type": "stream",
          "name": "stdout",
          "text": [
            "/content/stable-diffusion-webui\n",
            "Python 3.7.14 (default, Sep  8 2022, 00:06:44) \n",
            "[GCC 7.5.0]\n",
            "Commit hash: 698d303b04e293635bfb49c525409f3bcf671dce\n",
            "Installing gfpgan\n",
            "Installing clip\n",
            "Cloning Stable Diffusion into repositories/stable-diffusion...\n",
            "Cloning Taming Transformers into repositories/taming-transformers...\n",
            "Cloning K-diffusion into repositories/k-diffusion...\n",
            "Cloning CodeFormer into repositories/CodeFormer...\n",
            "Cloning BLIP into repositories/BLIP...\n",
            "Installing requirements for CodeFormer\n",
            "Installing requirements for Web UI\n",
            "Launching Web UI with arguments: --share --gradio-debug --config config.yaml --vae-path /content/animevae.pt\n",
            "LatentDiffusion: Running in eps-prediction mode\n",
            "DiffusionWrapper has 859.52 M params.\n",
            "making attention of type 'vanilla' with 512 in_channels\n",
            "Working with z of shape (1, 4, 64, 64) = 16384 dimensions.\n",
            "making attention of type 'vanilla' with 512 in_channels\n",
            "Downloading: 100% 939k/939k [00:00<00:00, 1.88MB/s]\n",
            "Downloading: 100% 512k/512k [00:00<00:00, 1.22MB/s]\n",
            "Downloading: 100% 389/389 [00:00<00:00, 353kB/s]\n",
            "Downloading: 100% 905/905 [00:00<00:00, 784kB/s]\n",
            "Downloading: 100% 4.41k/4.41k [00:00<00:00, 3.57MB/s]\n",
            "Downloading: 100% 1.59G/1.59G [00:26<00:00, 64.4MB/s]\n",
            "Loading weights [1d4a34af] from /content/stable-diffusion-webui/models/Stable-diffusion/animesfw-final-pruned.ckpt\n",
            "Loading VAE weights from: /content/animevae.pt\n",
            "Applying cross attention optimization (Doggettx).\n",
            "Model loaded.\n",
            "Loaded a total of 0 textual inversion embeddings.\n",
            "Running on local URL:  http://127.0.0.1:7860\n",
            "Running on public URL: https://27655.gradio.app\n",
            "\n",
            "This share link expires in 72 hours. For free permanent hosting, check out Spaces: https://huggingface.co/spaces\n",
            "  0% 0/12 [00:00<?, ?it/s]\n",
            "  8% 1/12 [00:00<00:03,  3.61it/s]\n",
            " 17% 2/12 [00:00<00:02,  4.22it/s]\n",
            " 25% 3/12 [00:00<00:02,  4.49it/s]\n",
            " 33% 4/12 [00:00<00:01,  4.65it/s]\n",
            " 42% 5/12 [00:01<00:01,  4.70it/s]\n",
            " 50% 6/12 [00:01<00:01,  4.63it/s]\n",
            " 58% 7/12 [00:01<00:01,  4.63it/s]\n",
            " 67% 8/12 [00:01<00:00,  4.70it/s]\n",
            " 75% 9/12 [00:01<00:00,  4.75it/s]\n",
            " 83% 10/12 [00:02<00:00,  4.70it/s]\n",
            " 92% 11/12 [00:02<00:00,  4.68it/s]\n",
            "100% 12/12 [00:02<00:00,  4.61it/s]\n",
            "Total progress: 100% 12/12 [00:02<00:00,  4.60it/s]\n",
            "  0% 0/12 [00:00<?, ?it/s]\n",
            "  8% 1/12 [00:00<00:05,  2.01it/s]\n",
            " 17% 2/12 [00:01<00:05,  1.93it/s]\n",
            " 25% 3/12 [00:01<00:04,  1.96it/s]\n",
            " 33% 4/12 [00:02<00:04,  1.93it/s]\n",
            " 42% 5/12 [00:02<00:03,  1.94it/s]\n",
            " 50% 6/12 [00:03<00:03,  1.92it/s]\n",
            " 58% 7/12 [00:03<00:02,  1.93it/s]\n",
            " 67% 8/12 [00:04<00:02,  1.92it/s]\n",
            " 75% 9/12 [00:04<00:01,  1.93it/s]\n",
            " 83% 10/12 [00:05<00:01,  1.92it/s]\n",
            " 92% 11/12 [00:05<00:00,  1.93it/s]\n",
            "100% 12/12 [00:06<00:00,  1.93it/s]\n",
            "Total progress: 100% 12/12 [00:06<00:00,  1.91it/s]\n",
            "  0% 0/12 [00:00<?, ?it/s]\n",
            "  8% 1/12 [00:00<00:05,  1.98it/s]\n",
            " 17% 2/12 [00:01<00:05,  1.89it/s]\n",
            " 25% 3/12 [00:01<00:04,  1.92it/s]\n",
            " 33% 4/12 [00:02<00:04,  1.88it/s]\n",
            " 42% 5/12 [00:02<00:03,  1.90it/s]\n",
            " 50% 6/12 [00:03<00:03,  1.88it/s]\n",
            " 58% 7/12 [00:03<00:02,  1.89it/s]\n",
            " 67% 8/12 [00:04<00:02,  1.88it/s]\n",
            " 75% 9/12 [00:04<00:01,  1.88it/s]\n",
            " 83% 10/12 [00:05<00:01,  1.86it/s]\n",
            " 92% 11/12 [00:05<00:00,  1.87it/s]\n",
            "100% 12/12 [00:06<00:00,  1.88it/s]\n",
            "Total progress: 100% 12/12 [00:06<00:00,  1.85it/s]\n",
            "  0% 0/12 [00:00<?, ?it/s]\n",
            "  8% 1/12 [00:00<00:05,  1.94it/s]\n",
            "Total progress:   8% 1/12 [00:00<00:06,  1.72it/s]\n",
            "  0% 0/12 [00:00<?, ?it/s]\n",
            "  8% 1/12 [00:00<00:05,  1.92it/s]\n",
            " 17% 2/12 [00:01<00:05,  1.83it/s]\n",
            " 25% 3/12 [00:01<00:04,  1.86it/s]\n",
            " 33% 4/12 [00:02<00:04,  1.82it/s]\n",
            " 42% 5/12 [00:02<00:03,  1.84it/s]\n",
            " 50% 6/12 [00:03<00:03,  1.83it/s]\n",
            " 58% 7/12 [00:03<00:02,  1.85it/s]\n",
            " 67% 8/12 [00:04<00:02,  1.83it/s]\n",
            " 75% 9/12 [00:04<00:01,  1.84it/s]\n",
            " 83% 10/12 [00:05<00:01,  1.83it/s]\n",
            " 92% 11/12 [00:05<00:00,  1.83it/s]\n",
            "100% 12/12 [00:06<00:00,  1.84it/s]\n",
            "Total progress: 100% 12/12 [00:06<00:00,  1.82it/s]\n",
            "  0% 0/12 [00:00<?, ?it/s]\n",
            "  8% 1/12 [00:00<00:05,  1.92it/s]\n",
            " 17% 2/12 [00:01<00:05,  1.82it/s]\n",
            " 25% 3/12 [00:01<00:04,  1.85it/s]\n",
            " 33% 4/12 [00:02<00:04,  1.81it/s]\n",
            " 42% 5/12 [00:02<00:03,  1.82it/s]\n",
            " 50% 6/12 [00:03<00:03,  1.79it/s]\n",
            " 58% 7/12 [00:03<00:02,  1.79it/s]\n",
            " 67% 8/12 [00:04<00:02,  1.78it/s]\n",
            " 75% 9/12 [00:05<00:01,  1.77it/s]\n",
            " 83% 10/12 [00:05<00:01,  1.78it/s]\n",
            " 92% 11/12 [00:06<00:00,  1.78it/s]\n",
            "100% 12/12 [00:06<00:00,  1.80it/s]\n",
            "Total progress: 100% 12/12 [00:06<00:00,  1.78it/s]\n",
            "  0% 0/15 [00:00<?, ?it/s]\n",
            "  7% 1/15 [00:00<00:07,  1.86it/s]\n",
            " 13% 2/15 [00:01<00:07,  1.77it/s]\n",
            " 20% 3/15 [00:01<00:06,  1.79it/s]\n",
            " 27% 4/15 [00:02<00:06,  1.76it/s]\n",
            " 33% 5/15 [00:02<00:05,  1.78it/s]\n",
            " 40% 6/15 [00:03<00:05,  1.75it/s]\n",
            " 47% 7/15 [00:03<00:04,  1.74it/s]\n",
            " 53% 8/15 [00:04<00:04,  1.74it/s]\n",
            " 60% 9/15 [00:05<00:03,  1.73it/s]\n",
            " 67% 10/15 [00:05<00:02,  1.73it/s]\n",
            " 73% 11/15 [00:06<00:02,  1.72it/s]\n",
            " 80% 12/15 [00:06<00:01,  1.72it/s]\n",
            " 87% 13/15 [00:07<00:01,  1.71it/s]\n",
            " 93% 14/15 [00:08<00:00,  1.71it/s]\n",
            "100% 15/15 [00:08<00:00,  1.73it/s]\n",
            "Total progress: 100% 15/15 [00:08<00:00,  1.73it/s]\n",
            "Loading weights [e6e8e1fc] from /content/stable-diffusion-webui/models/Stable-diffusion/animefull-latest.ckpt\n",
            "Loading VAE weights from: /content/animevae.pt\n",
            "Applying cross attention optimization (Doggettx).\n",
            "Weights loaded.\n",
            "  0% 0/15 [00:00<?, ?it/s]\n",
            "  7% 1/15 [00:00<00:07,  1.76it/s]\n",
            " 13% 2/15 [00:01<00:07,  1.68it/s]\n",
            " 20% 3/15 [00:01<00:07,  1.70it/s]\n",
            " 27% 4/15 [00:02<00:06,  1.69it/s]\n",
            " 33% 5/15 [00:02<00:05,  1.68it/s]\n",
            " 40% 6/15 [00:03<00:05,  1.68it/s]\n",
            " 47% 7/15 [00:04<00:04,  1.66it/s]\n",
            " 53% 8/15 [00:04<00:04,  1.66it/s]\n",
            " 60% 9/15 [00:05<00:03,  1.65it/s]\n",
            " 67% 10/15 [00:06<00:03,  1.64it/s]\n",
            " 73% 11/15 [00:06<00:02,  1.64it/s]\n",
            " 80% 12/15 [00:07<00:01,  1.63it/s]\n",
            " 87% 13/15 [00:07<00:01,  1.63it/s]\n",
            " 93% 14/15 [00:08<00:00,  1.63it/s]\n",
            "100% 15/15 [00:09<00:00,  1.65it/s]\n",
            "Total progress: 100% 15/15 [00:09<00:00,  1.65it/s]\n",
            "  0% 0/20 [00:00<?, ?it/s]\n",
            "  5% 1/20 [00:00<00:04,  3.82it/s]\n",
            " 10% 2/20 [00:00<00:04,  4.07it/s]\n",
            " 15% 3/20 [00:00<00:04,  4.16it/s]\n",
            " 20% 4/20 [00:00<00:03,  4.09it/s]\n",
            " 25% 5/20 [00:01<00:03,  3.98it/s]\n",
            " 30% 6/20 [00:01<00:03,  4.03it/s]\n",
            " 35% 7/20 [00:01<00:03,  4.10it/s]\n",
            " 40% 8/20 [00:01<00:02,  4.07it/s]\n",
            " 45% 9/20 [00:02<00:02,  3.96it/s]\n",
            " 50% 10/20 [00:02<00:02,  4.01it/s]\n",
            " 55% 11/20 [00:02<00:02,  4.06it/s]\n",
            " 60% 12/20 [00:02<00:01,  4.02it/s]\n",
            " 65% 13/20 [00:03<00:01,  3.96it/s]\n",
            " 70% 14/20 [00:03<00:01,  3.97it/s]\n",
            " 75% 15/20 [00:03<00:01,  4.00it/s]\n",
            " 80% 16/20 [00:03<00:01,  3.97it/s]\n",
            " 85% 17/20 [00:04<00:00,  3.89it/s]\n",
            " 90% 18/20 [00:04<00:00,  3.93it/s]\n",
            " 95% 19/20 [00:04<00:00,  3.98it/s]\n",
            "100% 20/20 [00:05<00:00,  3.99it/s]\n",
            "Total progress: 100% 20/20 [00:05<00:00,  3.93it/s]\n",
            "  0% 0/20 [00:00<?, ?it/s]\n",
            "  5% 1/20 [00:00<00:05,  3.52it/s]\n",
            " 10% 2/20 [00:00<00:04,  3.85it/s]\n",
            " 15% 3/20 [00:00<00:04,  3.97it/s]\n",
            " 20% 4/20 [00:01<00:04,  3.95it/s]\n",
            " 25% 5/20 [00:01<00:03,  3.82it/s]\n",
            " 30% 6/20 [00:01<00:03,  3.90it/s]\n",
            " 35% 7/20 [00:01<00:03,  3.94it/s]\n",
            " 40% 8/20 [00:02<00:03,  3.90it/s]\n",
            " 45% 9/20 [00:02<00:02,  3.83it/s]\n",
            " 50% 10/20 [00:02<00:02,  3.88it/s]\n",
            " 55% 11/20 [00:02<00:02,  3.93it/s]\n",
            " 60% 12/20 [00:03<00:02,  3.87it/s]\n",
            " 65% 13/20 [00:03<00:01,  3.81it/s]\n",
            " 70% 14/20 [00:03<00:01,  3.87it/s]\n",
            " 75% 15/20 [00:03<00:01,  3.92it/s]\n",
            " 80% 16/20 [00:04<00:01,  3.85it/s]\n",
            " 85% 17/20 [00:04<00:00,  3.81it/s]\n",
            " 90% 18/20 [00:04<00:00,  3.86it/s]\n",
            " 95% 19/20 [00:04<00:00,  3.87it/s]\n",
            "100% 20/20 [00:05<00:00,  3.86it/s]\n",
            "Total progress: 100% 20/20 [00:05<00:00,  3.81it/s]\n",
            "  0% 0/20 [00:00<?, ?it/s]\n",
            "  5% 1/20 [00:00<00:04,  3.98it/s]\n",
            " 10% 2/20 [00:00<00:04,  4.23it/s]\n",
            " 15% 3/20 [00:00<00:03,  4.32it/s]\n",
            " 20% 4/20 [00:00<00:03,  4.31it/s]\n",
            " 25% 5/20 [00:01<00:03,  4.13it/s]\n",
            " 30% 6/20 [00:01<00:03,  4.20it/s]\n",
            " 35% 7/20 [00:01<00:03,  4.28it/s]\n",
            " 40% 8/20 [00:01<00:02,  4.31it/s]\n",
            " 45% 9/20 [00:02<00:02,  4.17it/s]\n",
            " 50% 10/20 [00:02<00:02,  4.21it/s]\n",
            " 55% 11/20 [00:02<00:02,  4.25it/s]\n",
            " 60% 12/20 [00:02<00:01,  4.29it/s]\n",
            " 65% 13/20 [00:03<00:01,  4.20it/s]\n",
            " 70% 14/20 [00:03<00:01,  4.18it/s]\n",
            " 75% 15/20 [00:03<00:01,  4.23it/s]\n",
            " 80% 16/20 [00:03<00:00,  4.25it/s]\n",
            " 85% 17/20 [00:04<00:00,  4.23it/s]\n",
            " 90% 18/20 [00:04<00:00,  4.19it/s]\n",
            " 95% 19/20 [00:04<00:00,  4.22it/s]\n",
            "100% 20/20 [00:04<00:00,  4.23it/s]\n",
            "Total progress: 100% 20/20 [00:04<00:00,  4.19it/s]\n",
            "  0% 0/20 [00:00<?, ?it/s]\n",
            "  5% 1/20 [00:00<00:05,  3.64it/s]\n",
            " 10% 2/20 [00:00<00:04,  4.02it/s]\n",
            " 15% 3/20 [00:00<00:04,  4.15it/s]\n",
            " 20% 4/20 [00:00<00:03,  4.21it/s]\n",
            " 25% 5/20 [00:01<00:03,  4.06it/s]\n",
            " 30% 6/20 [00:01<00:03,  4.10it/s]\n",
            " 35% 7/20 [00:01<00:03,  4.15it/s]\n",
            " 40% 8/20 [00:01<00:02,  4.20it/s]\n",
            " 45% 9/20 [00:02<00:02,  4.09it/s]\n",
            " 50% 10/20 [00:02<00:02,  4.08it/s]\n",
            " 55% 11/20 [00:02<00:02,  4.14it/s]\n",
            " 60% 12/20 [00:02<00:01,  4.18it/s]\n",
            " 65% 13/20 [00:03<00:01,  4.12it/s]\n",
            " 70% 14/20 [00:03<00:01,  4.09it/s]\n",
            " 75% 15/20 [00:03<00:01,  4.13it/s]\n",
            " 80% 16/20 [00:03<00:00,  4.13it/s]\n",
            " 85% 17/20 [00:04<00:00,  4.09it/s]\n",
            " 90% 18/20 [00:04<00:00,  4.04it/s]\n",
            " 95% 19/20 [00:04<00:00,  4.06it/s]\n",
            "100% 20/20 [00:04<00:00,  4.11it/s]\n",
            "Total progress: 100% 20/20 [00:04<00:00,  4.05it/s]\n",
            "  0% 0/20 [00:00<?, ?it/s]\n",
            "  5% 1/20 [00:00<00:05,  3.41it/s]\n",
            " 10% 2/20 [00:00<00:04,  3.89it/s]\n",
            " 15% 3/20 [00:00<00:04,  4.04it/s]\n",
            " 20% 4/20 [00:00<00:03,  4.15it/s]\n",
            " 25% 5/20 [00:01<00:03,  3.97it/s]\n",
            " 30% 6/20 [00:01<00:03,  4.01it/s]\n",
            " 35% 7/20 [00:01<00:03,  4.08it/s]\n",
            " 40% 8/20 [00:01<00:02,  4.15it/s]\n",
            " 45% 9/20 [00:02<00:02,  4.04it/s]\n",
            " 50% 10/20 [00:02<00:02,  4.06it/s]\n",
            " 55% 11/20 [00:02<00:02,  4.09it/s]\n",
            " 60% 12/20 [00:02<00:01,  4.14it/s]\n",
            " 65% 13/20 [00:03<00:01,  4.08it/s]\n",
            " 70% 14/20 [00:03<00:01,  4.07it/s]\n",
            " 75% 15/20 [00:03<00:01,  4.09it/s]\n",
            " 80% 16/20 [00:03<00:00,  4.10it/s]\n",
            " 85% 17/20 [00:04<00:00,  4.06it/s]\n",
            " 90% 18/20 [00:04<00:00,  4.03it/s]\n",
            " 95% 19/20 [00:04<00:00,  4.04it/s]\n",
            "100% 20/20 [00:04<00:00,  4.06it/s]\n",
            "Total progress: 100% 20/20 [00:04<00:00,  4.03it/s]\n",
            "  0% 0/20 [00:00<?, ?it/s]\n",
            "  5% 1/20 [00:00<00:05,  3.53it/s]\n",
            " 10% 2/20 [00:00<00:04,  3.92it/s]\n",
            " 15% 3/20 [00:00<00:04,  4.05it/s]\n",
            " 20% 4/20 [00:01<00:03,  4.05it/s]\n",
            " 25% 5/20 [00:01<00:03,  3.89it/s]\n",
            " 30% 6/20 [00:01<00:03,  3.94it/s]\n",
            " 35% 7/20 [00:01<00:03,  4.00it/s]\n",
            " 40% 8/20 [00:02<00:03,  4.00it/s]\n",
            " 45% 9/20 [00:02<00:02,  3.93it/s]\n",
            " 50% 10/20 [00:02<00:02,  3.95it/s]\n",
            " 55% 11/20 [00:02<00:02,  4.00it/s]\n",
            " 60% 12/20 [00:03<00:02,  3.97it/s]\n",
            " 65% 13/20 [00:03<00:01,  3.89it/s]\n",
            " 70% 14/20 [00:03<00:01,  3.92it/s]\n",
            " 75% 15/20 [00:03<00:01,  3.96it/s]\n",
            " 80% 16/20 [00:04<00:01,  3.93it/s]\n",
            " 85% 17/20 [00:04<00:00,  3.89it/s]\n",
            " 90% 18/20 [00:04<00:00,  3.93it/s]\n",
            " 95% 19/20 [00:04<00:00,  3.95it/s]\n",
            "100% 20/20 [00:05<00:00,  3.94it/s]\n",
            "Total progress: 100% 20/20 [00:05<00:00,  3.88it/s]\n"
          ]
        }
      ]
    },
    {
      "cell_type": "markdown",
      "source": [
        "commands for ***after*** you have gotten done with a session\n",
        "============================================================================"
      ],
      "metadata": {
        "id": "T3957x2AY7iP"
      }
    },
    {
      "cell_type": "markdown",
      "source": [
        "Zip images for downloading on local drive (click the folder icon on the left, the one below {x})"
      ],
      "metadata": {
        "id": "aCtJffM2ZE06"
      }
    },
    {
      "cell_type": "code",
      "source": [
        "!zip -r /content/stable-diffusion-webui /content/stable-diffusion-webui/outputs "
      ],
      "metadata": {
        "id": "TmRqNyiAZCHu"
      },
      "execution_count": null,
      "outputs": []
    },
    {
      "cell_type": "markdown",
      "source": [
        "Save images to Google Drive **Warning: this will cause google to scan your drive, so if you intend to use this and worry about that kind of stuff, probablly just set this up on a clean account that's just for this colab**"
      ],
      "metadata": {
        "id": "tcslU-S2ZNr9"
      }
    },
    {
      "cell_type": "code",
      "source": [
        "from google.colab import drive # type: ignore\n",
        "\n",
        "try:\n",
        "   drive_path = \"/content/drive\"\n",
        "   drive.mount(drive_path,force_remount=False)\n",
        "except:\n",
        "   print(\"...error mounting drive or with drive path variables\")\n",
        "\n",
        "!cp -r \"/content/stable-diffusion-webui/outputs\" \"/content/drive/MyDrive\""
      ],
      "metadata": {
        "id": "-N0lnu-TZOTW"
      },
      "execution_count": null,
      "outputs": []
    }
  ]
}